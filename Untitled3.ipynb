{
  "nbformat": 4,
  "nbformat_minor": 0,
  "metadata": {
    "colab": {
      "name": "Untitled3.ipynb",
      "provenance": [],
      "authorship_tag": "ABX9TyN+hPYZ46Pd4E1VW3cffWO2",
      "include_colab_link": true
    },
    "kernelspec": {
      "name": "python3",
      "display_name": "Python 3"
    },
    "language_info": {
      "name": "python"
    }
  },
  "cells": [
    {
      "cell_type": "markdown",
      "metadata": {
        "id": "view-in-github",
        "colab_type": "text"
      },
      "source": [
        "<a href=\"https://colab.research.google.com/github/Anisha271299/HANDSON_ASSIGNMENTS/blob/main/Untitled3.ipynb\" target=\"_parent\"><img src=\"https://colab.research.google.com/assets/colab-badge.svg\" alt=\"Open In Colab\"/></a>"
      ]
    },
    {
      "cell_type": "code",
      "execution_count": null,
      "metadata": {
        "colab": {
          "base_uri": "https://localhost:8080/"
        },
        "id": "ja7dlY3KmplL",
        "outputId": "7200561c-b3d7-4a5e-c53f-9b9428db6582"
      },
      "outputs": [
        {
          "output_type": "stream",
          "name": "stdout",
          "text": [
            "[1, 2, 3, 4, 5, 6, 7, 12]\n"
          ]
        }
      ],
      "source": [
        "mylist= [1,2,3,2,12,5,6,7,5,4,2,1,1,4,] #method1\n",
        "print (list(set(mylist)))"
      ]
    },
    {
      "cell_type": "code",
      "source": [
        "list1 = [] #method2\n",
        "n = int(input(\"Enter number of elements: \"))\n",
        "for no in range(0,n):\n",
        "  element = int(input())\n",
        "  list1.append(element)\n",
        "\n",
        "print(list1)\n"
      ],
      "metadata": {
        "colab": {
          "base_uri": "https://localhost:8080/"
        },
        "id": "4_FudNbWp2ly",
        "outputId": "9b7d64bc-7476-4396-adac-159aefd6c511"
      },
      "execution_count": null,
      "outputs": [
        {
          "output_type": "stream",
          "name": "stdout",
          "text": [
            "Enter number of elements: 1\n",
            "1\n",
            "[1]\n"
          ]
        }
      ]
    },
    {
      "cell_type": "code",
      "source": [
        "new_list1 = []\n",
        "for number in list1:\n",
        "  if number not in new_list1:\n",
        "    new_list1.append(number)\n",
        "\n",
        "print(new_list1)"
      ],
      "metadata": {
        "colab": {
          "base_uri": "https://localhost:8080/"
        },
        "id": "kP5GLjUQq1pU",
        "outputId": "8273b069-1b07-4e90-8dce-ee9aa6e31baa"
      },
      "execution_count": null,
      "outputs": [
        {
          "output_type": "stream",
          "name": "stdout",
          "text": [
            "[2]\n"
          ]
        }
      ]
    },
    {
      "cell_type": "code",
      "source": [
        "def list(n): #method 3\n",
        "  list2 = []\n",
        "  for x in range(n):\n",
        "    list1 = input('Enter a number here: ')\n",
        "    list2.append(list1)\n",
        "  list2 = (set(list2))\n",
        "  print(list2)"
      ],
      "metadata": {
        "id": "-GpfkU6frsZE"
      },
      "execution_count": null,
      "outputs": []
    },
    {
      "cell_type": "code",
      "source": [
        "list(5)"
      ],
      "metadata": {
        "colab": {
          "base_uri": "https://localhost:8080/"
        },
        "id": "IkfWa0olrumL",
        "outputId": "ae1eb177-4acd-41b5-8b3c-5027418cb3d9"
      },
      "execution_count": null,
      "outputs": [
        {
          "output_type": "stream",
          "name": "stdout",
          "text": [
            "Enter a number here: 3\n",
            "Enter a number here: 3\n",
            "Enter a number here: 3\n",
            "Enter a number here: 2\n",
            "Enter a number here: 1\n",
            "{'3', '1', '2'}\n"
          ]
        }
      ]
    }
  ]
}