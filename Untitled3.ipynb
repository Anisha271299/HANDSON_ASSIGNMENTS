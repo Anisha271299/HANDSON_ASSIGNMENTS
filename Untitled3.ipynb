{
  "nbformat": 4,
  "nbformat_minor": 0,
  "metadata": {
    "colab": {
      "name": "Untitled3.ipynb",
      "provenance": [],
      "authorship_tag": "ABX9TyPfF3rkNBvLPrAycQBuBMTk",
      "include_colab_link": true
    },
    "kernelspec": {
      "name": "python3",
      "display_name": "Python 3"
    },
    "language_info": {
      "name": "python"
    }
  },
  "cells": [
    {
      "cell_type": "markdown",
      "metadata": {
        "id": "view-in-github",
        "colab_type": "text"
      },
      "source": [
        "<a href=\"https://colab.research.google.com/github/Anisha271299/HANDSON_ASSIGNMENTS/blob/main/Untitled3.ipynb\" target=\"_parent\"><img src=\"https://colab.research.google.com/assets/colab-badge.svg\" alt=\"Open In Colab\"/></a>"
      ]
    },
    {
      "cell_type": "code",
      "execution_count": 14,
      "metadata": {
        "colab": {
          "base_uri": "https://localhost:8080/"
        },
        "id": "ja7dlY3KmplL",
        "outputId": "7200561c-b3d7-4a5e-c53f-9b9428db6582"
      },
      "outputs": [
        {
          "output_type": "stream",
          "name": "stdout",
          "text": [
            "[1, 2, 3, 4, 5, 6, 7, 12]\n"
          ]
        }
      ],
      "source": [
        "mylist= [1,2,3,2,12,5,6,7,5,4,2,1,1,4,] #method1\n",
        "print (list(set(mylist)))"
      ]
    },
    {
      "cell_type": "code",
      "source": [
        "def list(n): #method 2\n",
        "  list2 = []\n",
        "  for x in range(n):\n",
        "    list1 = input('Enter a number here: ')\n",
        "    list2.append(list1)\n",
        "  list2 = (set(list2))\n",
        "  print(list2)"
      ],
      "metadata": {
        "id": "-GpfkU6frsZE"
      },
      "execution_count": 33,
      "outputs": []
    },
    {
      "cell_type": "code",
      "source": [
        "list(8)"
      ],
      "metadata": {
        "colab": {
          "base_uri": "https://localhost:8080/"
        },
        "id": "IkfWa0olrumL",
        "outputId": "b99dc57a-e59e-48a4-fefe-26dac3a018d8"
      },
      "execution_count": 36,
      "outputs": [
        {
          "output_type": "stream",
          "name": "stdout",
          "text": [
            "Enter a number here: 2\n",
            "Enter a number here: 3\n",
            "Enter a number here: 5\n",
            "Enter a number here: 4\n",
            "Enter a number here: 2\n",
            "Enter a number here: 1\n",
            "Enter a number here: 1\n",
            "Enter a number here: 1\n",
            "{'4', '3', '5', '2', '1'}\n"
          ]
        }
      ]
    }
  ]
}