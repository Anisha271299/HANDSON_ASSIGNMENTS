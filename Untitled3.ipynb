{
  "nbformat": 4,
  "nbformat_minor": 0,
  "metadata": {
    "colab": {
      "name": "Untitled3.ipynb",
      "provenance": [],
      "authorship_tag": "ABX9TyMiJPSIFPuGNWnvkYF6ojcE",
      "include_colab_link": true
    },
    "kernelspec": {
      "name": "python3",
      "display_name": "Python 3"
    },
    "language_info": {
      "name": "python"
    }
  },
  "cells": [
    {
      "cell_type": "markdown",
      "metadata": {
        "id": "view-in-github",
        "colab_type": "text"
      },
      "source": [
        "<a href=\"https://colab.research.google.com/github/Anisha271299/HANDSON_ASSIGNMENTS/blob/main/Untitled3.ipynb\" target=\"_parent\"><img src=\"https://colab.research.google.com/assets/colab-badge.svg\" alt=\"Open In Colab\"/></a>"
      ]
    },
    {
      "cell_type": "code",
      "execution_count": 6,
      "metadata": {
        "colab": {
          "base_uri": "https://localhost:8080/"
        },
        "id": "ja7dlY3KmplL",
        "outputId": "5ab7ccfd-1efe-49bb-9656-256fdbb0154b"
      },
      "outputs": [
        {
          "output_type": "stream",
          "name": "stdout",
          "text": [
            "[1, 2, 3, 4, 5, 6, 7, 12]\n"
          ]
        }
      ],
      "source": [
        "mylist= [1,2,3,2,12,5,6,7,5,4,2,1,1,4,]\n",
        "print (list(set(mylist)))"
      ]
    },
    {
      "cell_type": "code",
      "source": [
        "list1 = []\n",
        "n = int(input(\"Enter number of elements: \"))\n",
        "for no in range(0,n):\n",
        "  element = int(input())\n",
        "  list1.append(element)\n",
        "\n",
        "print(list1)2\n"
      ],
      "metadata": {
        "colab": {
          "base_uri": "https://localhost:8080/"
        },
        "id": "4_FudNbWp2ly",
        "outputId": "f66b2bbd-6dc8-4f77-d90a-bb3ebc353b9b"
      },
      "execution_count": 12,
      "outputs": [
        {
          "output_type": "stream",
          "name": "stdout",
          "text": [
            "Enter number of elements: 2\n",
            "2\n",
            "2\n",
            "[2, 2]\n"
          ]
        }
      ]
    },
    {
      "cell_type": "code",
      "source": [
        "new_list1 = []\n",
        "for number in list1:\n",
        "  if number not in new_list1:\n",
        "    new_list1.append(number)\n",
        "\n",
        "print(new_list1)"
      ],
      "metadata": {
        "colab": {
          "base_uri": "https://localhost:8080/"
        },
        "id": "kP5GLjUQq1pU",
        "outputId": "8273b069-1b07-4e90-8dce-ee9aa6e31baa"
      },
      "execution_count": 13,
      "outputs": [
        {
          "output_type": "stream",
          "name": "stdout",
          "text": [
            "[2]\n"
          ]
        }
      ]
    }
  ]
}